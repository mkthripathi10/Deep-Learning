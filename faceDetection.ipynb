{
 "cells": [
  {
   "cell_type": "code",
   "execution_count": 1,
   "id": "c60a88f0",
   "metadata": {},
   "outputs": [],
   "source": [
    "import cv2 as cv\n",
    "import numpy as np"
   ]
  },
  {
   "cell_type": "code",
   "execution_count": 14,
   "id": "e33859de",
   "metadata": {},
   "outputs": [],
   "source": [
    "# load library CascadeClassifier\n",
    "face = cv.CascadeClassifier(cv.data.haarcascades+\"haarcascade_frontalface_default.xml\")\n",
    "\n",
    "cap = cv.VideoCapture(0)\n",
    "while cap.isOpened():\n",
    "    re,frame = cap.read()\n",
    "    if re == True:\n",
    "        \n",
    "        #convert to gray\n",
    "        gray = cv.cvtColor(frame,cv.COLOR_BGR2GRAY)\n",
    "        detec = face.detectMultiScale(gray,scaleFactor =1.1 ,minNeighbors =5)\n",
    "         \n",
    "        for (x,y,w,h) in detec:\n",
    "            cv.rectangle(frame,(x,y),(x+w,y+h),(0,225,0),2)\n",
    "                      \n",
    "        cv.imshow(\"Face\",frame)        \n",
    "        if cv.waitKey(25) & 0xff == ord(\"p\"):\n",
    "            break\n",
    "    else:\n",
    "        break\n",
    "        \n",
    "cap.release()\n",
    "cv.destroyAllWindows()\n",
    "\n",
    "        \n",
    "    "
   ]
  },
  {
   "cell_type": "code",
   "execution_count": null,
   "id": "40ff14e2",
   "metadata": {},
   "outputs": [],
   "source": []
  }
 ],
 "metadata": {
  "kernelspec": {
   "display_name": "Python 3 (ipykernel)",
   "language": "python",
   "name": "python3"
  },
  "language_info": {
   "codemirror_mode": {
    "name": "ipython",
    "version": 3
   },
   "file_extension": ".py",
   "mimetype": "text/x-python",
   "name": "python",
   "nbconvert_exporter": "python",
   "pygments_lexer": "ipython3",
   "version": "3.11.5"
  }
 },
 "nbformat": 4,
 "nbformat_minor": 5
}
