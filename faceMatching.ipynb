{
 "cells": [
  {
   "cell_type": "code",
   "execution_count": 27,
   "id": "2d0d1ef9",
   "metadata": {},
   "outputs": [],
   "source": [
    "import cv2 as cv"
   ]
  },
  {
   "cell_type": "code",
   "execution_count": 2,
   "id": "e7603462",
   "metadata": {},
   "outputs": [],
   "source": [
    "# load images,template and search image"
   ]
  },
  {
   "cell_type": "code",
   "execution_count": 28,
   "id": "1019c84c",
   "metadata": {},
   "outputs": [
    {
     "name": "stdout",
     "output_type": "stream",
     "text": [
      "-0.4341728091239929 0.9959049224853516 (142, 15) (351, 76)\n"
     ]
    }
   ],
   "source": [
    "search = cv.imread(\"search.jpg\",1)\n",
    "template = cv.imread(\"template.jpg\",1)\n",
    "\n",
    "if search is None and template is None:\n",
    "    print(\"no image found\")\n",
    "else:\n",
    "    #get widht and Height of search image\n",
    "    h,w = search.shape[0],search.shape[1]\n",
    "    \n",
    "    #Applying Match template\n",
    "    result = cv.matchTemplate(template,search,cv.TM_CCOEFF_NORMED)\n",
    "    \n",
    "    #get min,max and ninLoc and maxLoc location\n",
    "    min,max,minLoc,maxLoc = cv.minMaxLoc(result)\n",
    "    \n",
    "    print(min,max,minLoc,maxLoc)\n",
    "    \n",
    "    topRight = maxLoc\n",
    "    bottomRight = (topRight[0]+w ,topRight[1]+h)\n",
    "    \n",
    "    #create the rectangle\n",
    "    cv.rectangle(template,topRight,bottomRight,(0,225,0),2)\n",
    "    \n",
    "    resize = cv.resize(template,(700,600))\n",
    "    cv.imshow(\"Match\",resize)\n",
    "    \n",
    "    cv.waitKey(0)\n",
    "    cv.destroyAllWindows()\n",
    "    \n",
    "  "
   ]
  },
  {
   "cell_type": "code",
   "execution_count": null,
   "id": "c49f8df1",
   "metadata": {},
   "outputs": [],
   "source": []
  }
 ],
 "metadata": {
  "kernelspec": {
   "display_name": "Python 3 (ipykernel)",
   "language": "python",
   "name": "python3"
  },
  "language_info": {
   "codemirror_mode": {
    "name": "ipython",
    "version": 3
   },
   "file_extension": ".py",
   "mimetype": "text/x-python",
   "name": "python",
   "nbconvert_exporter": "python",
   "pygments_lexer": "ipython3",
   "version": "3.11.5"
  }
 },
 "nbformat": 4,
 "nbformat_minor": 5
}
