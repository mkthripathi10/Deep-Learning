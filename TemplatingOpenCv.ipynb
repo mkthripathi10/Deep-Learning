{
 "cells": [
  {
   "cell_type": "code",
   "execution_count": 2,
   "id": "0f914941",
   "metadata": {},
   "outputs": [],
   "source": [
    "import cv2 as cv\n",
    "import numpy as np"
   ]
  },
  {
   "cell_type": "code",
   "execution_count": 55,
   "id": "a30d34f8",
   "metadata": {},
   "outputs": [],
   "source": [
    "search = cv.imread(\"search3.jpg\")\n",
    "searchGray = cv.cvtColor(search,cv.COLOR_BGR2GRAY)\n",
    "\n",
    "template = cv.imread(\"template.jpg\")\n",
    "templateGray = cv.cvtColor(template,cv.COLOR_BGR2GRAY)\n",
    "\n",
    "# GET Template dimentions\n",
    "w, h = templateGray.shape[::-1]\n",
    "   \n",
    " # Apply template Matching\n",
    "res = cv.matchTemplate(searchGray,templateGray,cv.TM_CCOEFF_NORMED)\n",
    "    \n",
    "#find the location with highest math\n",
    "min_val, max_val, min_loc, max_loc = cv.minMaxLoc(res)\n",
    "L = np.where(res >= max_val)\n",
    "\n",
    "for i in zip(*L[::-1]):\n",
    "    cv.rectangle(search,i,(i[0] + w, i[1] + h),(0,0, 255), 2)\n",
    "\n",
    "search =cv.resize(search,(800,600))\n",
    "cv.imshow(\"template\",template)\n",
    "cv.imshow(\"search\",search)\n",
    "cv.waitKey(0)\n",
    "cv.destroyAllWindows()\n",
    "\n"
   ]
  },
  {
   "cell_type": "code",
   "execution_count": null,
   "id": "75bbdc48",
   "metadata": {},
   "outputs": [],
   "source": []
  },
  {
   "cell_type": "code",
   "execution_count": null,
   "id": "380fc002",
   "metadata": {},
   "outputs": [],
   "source": []
  }
 ],
 "metadata": {
  "kernelspec": {
   "display_name": "Python 3 (ipykernel)",
   "language": "python",
   "name": "python3"
  },
  "language_info": {
   "codemirror_mode": {
    "name": "ipython",
    "version": 3
   },
   "file_extension": ".py",
   "mimetype": "text/x-python",
   "name": "python",
   "nbconvert_exporter": "python",
   "pygments_lexer": "ipython3",
   "version": "3.11.5"
  }
 },
 "nbformat": 4,
 "nbformat_minor": 5
}
