{
 "cells": [
  {
   "cell_type": "code",
   "execution_count": null,
   "id": "d4634841",
   "metadata": {},
   "outputs": [],
   "source": [
    "# cv.data.haarcascades == C:\\Users\\10713310\\AppData\\Local\\anaconda3\\Lib\\site-packages\\cv2\\data"
   ]
  },
  {
   "cell_type": "code",
   "execution_count": 1,
   "id": "9cb009ac",
   "metadata": {},
   "outputs": [],
   "source": [
    "import cv2 as cv\n",
    "import numpy as np"
   ]
  },
  {
   "cell_type": "code",
   "execution_count": 2,
   "id": "32e4bf39",
   "metadata": {},
   "outputs": [
    {
     "name": "stdout",
     "output_type": "stream",
     "text": [
      "< cv2.CascadeClassifier 000001CC6EF18F10>\n"
     ]
    }
   ],
   "source": [
    "# loading pre-train data for face detection\n",
    "\n",
    "face = cv.CascadeClassifier(cv.data.haarcascades+'haarcascade_frontalface_default.xml')\n",
    "print(face)\n",
    "\n",
    "# start the webcam\n",
    "\n",
    "cap = cv.VideoCapture(0)\n",
    "while cap.isOpened():\n",
    "    re,frame = cap.read()\n",
    "    if re == True:\n",
    "        \n",
    "        #convert image into gray\n",
    "        gray = cv.cvtColor(frame,cv.COLOR_BGR2GRAY)\n",
    "        \n",
    "        #Detect face\n",
    "        faceDect = face.detectMultiScale(gray,scaleFactor =1.1 ,minNeighbors =5)\n",
    "        \n",
    "        #create rectngle \n",
    "        for (x,y,w,h) in faceDect:\n",
    "            cv.rectangle(frame,(x,y),(x+w,y+h),(255,0,0),2)\n",
    "        \n",
    "        resize = cv.resize(frame,(500,400))\n",
    "        cv.imshow(\"Face\",resize)\n",
    "        if cv.waitKey(25) & 0xff == ord(\"p\"):\n",
    "            break\n",
    "    else:\n",
    "        break\n",
    "        \n",
    "cap.release()\n",
    "cv.destroyAllWindows()"
   ]
  },
  {
   "cell_type": "code",
   "execution_count": null,
   "id": "ec7f163d",
   "metadata": {},
   "outputs": [],
   "source": []
  }
 ],
 "metadata": {
  "kernelspec": {
   "display_name": "Python 3 (ipykernel)",
   "language": "python",
   "name": "python3"
  },
  "language_info": {
   "codemirror_mode": {
    "name": "ipython",
    "version": 3
   },
   "file_extension": ".py",
   "mimetype": "text/x-python",
   "name": "python",
   "nbconvert_exporter": "python",
   "pygments_lexer": "ipython3",
   "version": "3.11.5"
  }
 },
 "nbformat": 4,
 "nbformat_minor": 5
}
