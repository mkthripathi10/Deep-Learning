{
 "cells": [
  {
   "cell_type": "code",
   "execution_count": 1,
   "id": "e59e9323",
   "metadata": {},
   "outputs": [],
   "source": [
    "import cv2 as cv\n",
    "import numpy as np"
   ]
  },
  {
   "cell_type": "code",
   "execution_count": 2,
   "id": "7c3c6240",
   "metadata": {},
   "outputs": [],
   "source": [
    "img = cv.imread(\"actor.jpg\")\n",
    "gray = cv.cvtColor(img,cv.COLOR_BGR2GRAY)\n",
    "\n",
    "#convert to float 32\n",
    "gray = np.float32(gray)\n",
    "\n",
    "# Harris corner detection\n",
    "result =cv.cornerHarris(gray,blockSize =12, ksize = 3 ,k =0.04)\n",
    "\n",
    "#Dilate corner image to enhance corner point\n",
    "corner = cv.dilate(result,None)\n",
    "\n",
    "img[corner>0.1 * corner.max()] =[0,0,225]\n",
    "\n",
    "if img is None:\n",
    "    print(\"No image\")\n",
    "else:\n",
    "    resize =cv.resize(img,(600,500))\n",
    "    cv.imshow(\"window\",resize)\n",
    "    cv.waitKey(0)\n",
    "    cv.destroyAllWindows()"
   ]
  },
  {
   "cell_type": "code",
   "execution_count": null,
   "id": "7ec8bef7",
   "metadata": {},
   "outputs": [],
   "source": []
  },
  {
   "cell_type": "code",
   "execution_count": null,
   "id": "5adbf408",
   "metadata": {},
   "outputs": [],
   "source": []
  }
 ],
 "metadata": {
  "kernelspec": {
   "display_name": "Python 3 (ipykernel)",
   "language": "python",
   "name": "python3"
  },
  "language_info": {
   "codemirror_mode": {
    "name": "ipython",
    "version": 3
   },
   "file_extension": ".py",
   "mimetype": "text/x-python",
   "name": "python",
   "nbconvert_exporter": "python",
   "pygments_lexer": "ipython3",
   "version": "3.11.5"
  }
 },
 "nbformat": 4,
 "nbformat_minor": 5
}
