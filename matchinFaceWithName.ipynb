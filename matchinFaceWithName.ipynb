{
 "cells": [
  {
   "cell_type": "code",
   "execution_count": 1,
   "id": "51189f60",
   "metadata": {},
   "outputs": [],
   "source": [
    "import cv2 as cv"
   ]
  },
  {
   "cell_type": "code",
   "execution_count": 23,
   "id": "df163731",
   "metadata": {},
   "outputs": [],
   "source": [
    "#load both search and teplate\n",
    "search = cv.imread(\"search3.jpg\",1)\n",
    "template = cv.imread(\"template.jpg\",1)\n",
    "\n",
    "if search is None and template is None:\n",
    "    print(\"No Image found\")\n",
    "else:\n",
    "    # widh and help of serach image\n",
    "    w,h = search.shape[0],search.shape[1]\n",
    "    \n",
    "    # Apply matching\n",
    "    result = cv.matchTemplate(template,search,cv.TM_CCOEFF_NORMED)\n",
    "    \n",
    "    #find min and max, nin location, max location\n",
    "    min,max,minLoc,maxLoc = cv.minMaxLoc(result)\n",
    "    \n",
    "    #create rectangle \n",
    "    start_point = maxLoc #top_left corner\n",
    "    end_point = (maxLoc[0]+w, maxLoc[1]+h) #bottom_right corrent\n",
    "    color = (0,225,0)\n",
    "    thikness =2\n",
    "    cv.rectangle(template,start_point,end_point,color,thikness)\n",
    "    \n",
    "    #Add text into rectangle\n",
    "    name =\"Manish\"\n",
    "    text_color = (0,225,0)\n",
    "    font = cv.FONT_HERSHEY_SIMPLEX \n",
    "    \n",
    "    textPostion = (start_point[0],end_point[1]-10)\n",
    "#     cv.putText(template,name,textPostion,font,text_color)\n",
    "    \n",
    "    #show the image\n",
    "    resize = cv.resize(template,(700,600))\n",
    "    cv.imshow(\"Name\",resize)\n",
    "    cv.waitKey(0)\n",
    "    cv.destroyAllWindows()\n",
    "    "
   ]
  },
  {
   "cell_type": "code",
   "execution_count": null,
   "id": "6918a94a",
   "metadata": {},
   "outputs": [],
   "source": []
  },
  {
   "cell_type": "code",
   "execution_count": null,
   "id": "4e3ec587",
   "metadata": {},
   "outputs": [],
   "source": []
  }
 ],
 "metadata": {
  "kernelspec": {
   "display_name": "Python 3 (ipykernel)",
   "language": "python",
   "name": "python3"
  },
  "language_info": {
   "codemirror_mode": {
    "name": "ipython",
    "version": 3
   },
   "file_extension": ".py",
   "mimetype": "text/x-python",
   "name": "python",
   "nbconvert_exporter": "python",
   "pygments_lexer": "ipython3",
   "version": "3.11.5"
  }
 },
 "nbformat": 4,
 "nbformat_minor": 5
}
