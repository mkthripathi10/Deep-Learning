{
 "cells": [
  {
   "cell_type": "code",
   "execution_count": 19,
   "id": "00af8729",
   "metadata": {},
   "outputs": [],
   "source": [
    "import cv2 as cv"
   ]
  },
  {
   "cell_type": "code",
   "execution_count": 2,
   "id": "73349df6",
   "metadata": {},
   "outputs": [],
   "source": [
    "# upload the video"
   ]
  },
  {
   "cell_type": "code",
   "execution_count": 10,
   "id": "8c141261",
   "metadata": {},
   "outputs": [],
   "source": [
    "video = cv.VideoCapture(\"AWS-S.mp4\")\n",
    "while video.isOpened():\n",
    "    r,frame = video.read()\n",
    "    if r == True:\n",
    "        resize = cv.resize(frame,(600,500))\n",
    "#         cv.imshow(\"Video\",resize)\n",
    "        if cv.waitKey(190) & 0xff == ord(\"p\"):\n",
    "            break\n",
    "        \n",
    "    else:\n",
    "        break\n",
    "        \n",
    "video.release()\n",
    "cv.destroyAllWindows()"
   ]
  },
  {
   "cell_type": "code",
   "execution_count": 21,
   "id": "87582d4e",
   "metadata": {},
   "outputs": [],
   "source": [
    "img = cv.imread(\"search6.jpg\",1)\n",
    "template  = cv.imread(\"actor.jpg\",1)\n",
    "\n",
    "if img is None and template is None:\n",
    "    print(\"No image found\")\n",
    "else:\n",
    "    \n",
    "    w,h = img.shape[0],img.shape[1]\n",
    "    result = cv.matchTemplate(template,img,cv.TM_CCOEFF_NORMED)\n",
    "    \n",
    "    #get start point end point\n",
    "    min,max,ninLoc,maxLoc = cv.minMaxLoc(result)\n",
    "    \n",
    "    startPoint = maxLoc\n",
    "    endPoint = (maxLoc[0]+w, maxLoc[1]+h)\n",
    "    color = (0,225,0)\n",
    "    thikness =2\n",
    "    \n",
    "    cv.rectangle(template,startPoint,endPoint,color,thikness)\n",
    "    \n",
    "     #show the image\n",
    "    resize = cv.resize(template,(700,600))\n",
    "    cv.imshow(\"Name\",resize)\n",
    "    cv.waitKey(0)\n",
    "    cv.destroyAllWindows()\n",
    "    \n"
   ]
  },
  {
   "cell_type": "code",
   "execution_count": null,
   "id": "fdfaaca1",
   "metadata": {},
   "outputs": [],
   "source": []
  }
 ],
 "metadata": {
  "kernelspec": {
   "display_name": "Python 3 (ipykernel)",
   "language": "python",
   "name": "python3"
  },
  "language_info": {
   "codemirror_mode": {
    "name": "ipython",
    "version": 3
   },
   "file_extension": ".py",
   "mimetype": "text/x-python",
   "name": "python",
   "nbconvert_exporter": "python",
   "pygments_lexer": "ipython3",
   "version": "3.11.5"
  }
 },
 "nbformat": 4,
 "nbformat_minor": 5
}
